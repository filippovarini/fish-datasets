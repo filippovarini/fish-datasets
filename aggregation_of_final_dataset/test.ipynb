{
 "cells": [
  {
   "cell_type": "code",
   "execution_count": 1,
   "metadata": {},
   "outputs": [],
   "source": [
    "\n",
    "from settings import Settings\n",
    "from pathlib import Path\n",
    "import sys\n",
    "\n",
    "settings = Settings()\n",
    "dataset_name = \"marine_detect\"\n",
    "\n",
    "sys.path.append(str(settings.personal_root_path)) # Venv Python Path necessary\n",
    "from data_preview.utils import build_and_visualize_supervision_dataset_from_coco_dataset"
   ]
  },
  {
   "cell_type": "markdown",
   "metadata": {},
   "source": [
    "## Train Dataset"
   ]
  },
  {
   "cell_type": "code",
   "execution_count": 2,
   "metadata": {},
   "outputs": [],
   "source": [
    "images = Path(f\"{settings.processed_dir}/{dataset_name}{settings.train_dataset_suffix}/{settings.images_folder_name}\")\n",
    "annotations = Path(f\"{settings.processed_dir}/{dataset_name}{settings.train_dataset_suffix}/{settings.coco_file_name}\")"
   ]
  },
  {
   "cell_type": "code",
   "execution_count": 3,
   "metadata": {},
   "outputs": [
    {
     "name": "stderr",
     "output_type": "stream",
     "text": [
      "QSocketNotifier: Can only be used with threads started with QThread\n"
     ]
    },
    {
     "name": "stdout",
     "output_type": "stream",
     "text": [
      "Dataset length: 15543\n",
      "Dataset classes: ['fish']\n",
      "Dataset annotation count: 29823\n"
     ]
    },
    {
     "name": "stderr",
     "output_type": "stream",
     "text": [
      "qt.qpa.wayland: Wayland does not support QWindow::requestActivate()\n"
     ]
    }
   ],
   "source": [
    "random_image = build_and_visualize_supervision_dataset_from_coco_dataset(images, annotations)"
   ]
  },
  {
   "cell_type": "markdown",
   "metadata": {},
   "source": [
    "## Val Dataset"
   ]
  },
  {
   "cell_type": "code",
   "execution_count": 4,
   "metadata": {},
   "outputs": [],
   "source": [
    "images = Path(f\"{settings.processed_dir}/{dataset_name}{settings.val_dataset_suffix}/{settings.images_folder_name}\")\n",
    "annotations = Path(f\"{settings.processed_dir}/{dataset_name}{settings.val_dataset_suffix}/{settings.coco_file_name}\")"
   ]
  },
  {
   "cell_type": "code",
   "execution_count": 5,
   "metadata": {},
   "outputs": [
    {
     "name": "stdout",
     "output_type": "stream",
     "text": [
      "Dataset length: 4143\n",
      "Dataset classes: ['fish']\n",
      "Dataset annotation count: 8009\n"
     ]
    },
    {
     "name": "stderr",
     "output_type": "stream",
     "text": [
      "qt.qpa.wayland: Wayland does not support QWindow::requestActivate()\n"
     ]
    }
   ],
   "source": [
    "random_image = build_and_visualize_supervision_dataset_from_coco_dataset(images, annotations)"
   ]
  }
 ],
 "metadata": {
  "kernelspec": {
   "display_name": "venv",
   "language": "python",
   "name": "python3"
  },
  "language_info": {
   "codemirror_mode": {
    "name": "ipython",
    "version": 3
   },
   "file_extension": ".py",
   "mimetype": "text/x-python",
   "name": "python",
   "nbconvert_exporter": "python",
   "pygments_lexer": "ipython3",
   "version": "3.12.7"
  }
 },
 "nbformat": 4,
 "nbformat_minor": 2
}
